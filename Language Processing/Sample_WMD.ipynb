{
 "cells": [
  {
   "cell_type": "markdown",
   "metadata": {},
   "source": [
    "## Some good study resources/Material \n",
    "<hr>\n",
    "<hr>\n",
    "<hr>\n",
    "\n",
    "1) https://markroxor.github.io/gensim/static/notebooks/WMD_tutorial.html\n",
    "<br>\n",
    "2) https://towardsdatascience.com/word-movers-distance-for-text-similarity-7492aeca71b0\n",
    "<br>\n",
    "3) https://towardsdatascience.com/word-distance-between-word-embeddings-cc3e9cf1d632\n",
    "<br>\n",
    "\n",
    "<hr><hr><hr>\n",
    "<b> Orginal paper for WMD is -> </b>  http://proceedings.mlr.press/v37/kusnerb15.pdf"
   ]
  },
  {
   "cell_type": "markdown",
   "metadata": {},
   "source": [
    "## Code for using WMD - Word movers distance  "
   ]
  },
  {
   "cell_type": "code",
   "execution_count": null,
   "metadata": {},
   "outputs": [],
   "source": []
  },
  {
   "cell_type": "code",
   "execution_count": 32,
   "metadata": {},
   "outputs": [],
   "source": [
    "sentance_a = \"Anurag lives in Mumbai\"\n",
    "sentance_b = \"Anurag lives in capital of Maharashtra\" \n",
    "sentance_c = \"Jay lives in Raipur\"\n",
    "sentance_d = \"Jay in lives in capital of Chhattishgarh\""
   ]
  },
  {
   "cell_type": "code",
   "execution_count": 47,
   "metadata": {},
   "outputs": [],
   "source": [
    "sentance_e = \"Prince lives in Gwalior . He is a CSE Undergrad at VNIT . He's in his pre-final year\"\n",
    "sentance_f = \"Prince lives in madhya pradesh . He is studying computer science and engineering in NIT Nagpur. He's in 3rd year\""
   ]
  },
  {
   "cell_type": "code",
   "execution_count": 67,
   "metadata": {},
   "outputs": [],
   "source": [
    "sentance_g = \"I like apple\"\n",
    "sentance_h = \"I don't like apple\""
   ]
  },
  {
   "cell_type": "code",
   "execution_count": 33,
   "metadata": {},
   "outputs": [],
   "source": [
    "sentance_a = sentance_a.lower().split()\n",
    "sentance_b = sentance_b.lower().split()\n",
    "sentance_c = sentance_c.lower().split()\n",
    "sentance_d = sentance_d.lower().split()"
   ]
  },
  {
   "cell_type": "code",
   "execution_count": 48,
   "metadata": {},
   "outputs": [],
   "source": [
    "sentance_e = sentance_e.lower().split()\n",
    "sentance_f = sentance_f.lower().split()"
   ]
  },
  {
   "cell_type": "code",
   "execution_count": 69,
   "metadata": {},
   "outputs": [],
   "source": [
    "sentance_g = sentance_g.lower().split()\n",
    "sentance_h = sentance_h.lower().split()"
   ]
  },
  {
   "cell_type": "code",
   "execution_count": 34,
   "metadata": {},
   "outputs": [
    {
     "data": {
      "text/plain": [
       "(['anurag', 'lives', 'in', 'mumbai'],\n",
       " ['anurag', 'lives', 'in', 'capital', 'of', 'maharashtra'],\n",
       " ['jay', 'lives', 'in', 'raipur'],\n",
       " ['jay', 'in', 'lives', 'in', 'capital', 'of', 'chhattishgarh'])"
      ]
     },
     "execution_count": 34,
     "metadata": {},
     "output_type": "execute_result"
    }
   ],
   "source": [
    "sentance_a,sentance_b,sentance_c , sentance_d"
   ]
  },
  {
   "cell_type": "code",
   "execution_count": 35,
   "metadata": {},
   "outputs": [
    {
     "name": "stderr",
     "output_type": "stream",
     "text": [
      "[nltk_data] Downloading package stopwords to\n",
      "[nltk_data]     C:\\Users\\JPG\\AppData\\Roaming\\nltk_data...\n",
      "[nltk_data]   Package stopwords is already up-to-date!\n"
     ]
    },
    {
     "data": {
      "text/plain": [
       "True"
      ]
     },
     "execution_count": 35,
     "metadata": {},
     "output_type": "execute_result"
    }
   ],
   "source": [
    "from nltk.corpus import stopwords \n",
    "from nltk import download \n",
    "download('stopwords')"
   ]
  },
  {
   "cell_type": "code",
   "execution_count": 9,
   "metadata": {},
   "outputs": [],
   "source": [
    "stop_words = stopwords.words('english')"
   ]
  },
  {
   "cell_type": "code",
   "execution_count": 28,
   "metadata": {},
   "outputs": [],
   "source": [
    "sentance_a = [w for w in sentance_a if w not in stop_words]\n",
    "sentance_b = [w for w in sentance_b if w not in stop_words]\n",
    "sentance_c = [w for w in sentance_c if w not in stop_words]\n",
    "sentance_d = [w for w in sentance_d if w not in stop_words]"
   ]
  },
  {
   "cell_type": "code",
   "execution_count": 49,
   "metadata": {},
   "outputs": [],
   "source": [
    "sentance_e = [w for w in sentance_e if w not in stop_words]\n",
    "sentance_f = [w for w in sentance_f if w not in stop_words]"
   ]
  },
  {
   "cell_type": "code",
   "execution_count": 71,
   "metadata": {},
   "outputs": [],
   "source": [
    "sentance_g = [w for w in sentance_g if w not in stop_words]\n",
    "sentance_h = [w for w in sentance_h if w not in stop_words]"
   ]
  },
  {
   "cell_type": "code",
   "execution_count": 72,
   "metadata": {},
   "outputs": [
    {
     "data": {
      "text/plain": [
       "(['like', 'apple'], ['like', 'apple'])"
      ]
     },
     "execution_count": 72,
     "metadata": {},
     "output_type": "execute_result"
    }
   ],
   "source": [
    "sentance_g ,sentance_h"
   ]
  },
  {
   "cell_type": "code",
   "execution_count": 73,
   "metadata": {},
   "outputs": [
    {
     "data": {
      "text/plain": [
       "['like', 'apple']"
      ]
     },
     "execution_count": 73,
     "metadata": {},
     "output_type": "execute_result"
    }
   ],
   "source": [
    "sentance_g"
   ]
  },
  {
   "cell_type": "code",
   "execution_count": 63,
   "metadata": {},
   "outputs": [
    {
     "data": {
      "text/plain": [
       "['like', 'apple']"
      ]
     },
     "execution_count": 63,
     "metadata": {},
     "output_type": "execute_result"
    }
   ],
   "source": [
    "sentance_h"
   ]
  },
  {
   "cell_type": "code",
   "execution_count": 22,
   "metadata": {},
   "outputs": [],
   "source": [
    "from pyemd import emd"
   ]
  },
  {
   "cell_type": "code",
   "execution_count": 17,
   "metadata": {},
   "outputs": [],
   "source": [
    "import gensim\n",
    "from gensim.models import Word2Vec\n"
   ]
  },
  {
   "cell_type": "code",
   "execution_count": 19,
   "metadata": {},
   "outputs": [],
   "source": [
    "model = gensim.models.KeyedVectors.load_word2vec_format('D:/GoogleNews-vectors-negative300.bin.gz', binary=True)  "
   ]
  },
  {
   "cell_type": "code",
   "execution_count": 54,
   "metadata": {},
   "outputs": [],
   "source": [
    "distance1 = model.wmdistance(sentance_a , sentance_b)/((len(sentance_a)+ len(sentance_b))/2)\n",
    "distance2 = model.wmdistance(sentance_c , sentance_d)/((len(sentance_c)+ len(sentance_d))/2)\n",
    "distance3 = model.wmdistance(sentance_a , sentance_c)/((len(sentance_a)+ len(sentance_c))/2) \n",
    "distance4 = model.wmdistance(sentance_b , sentance_d)/((len(sentance_d)+ len(sentance_b))/2) "
   ]
  },
  {
   "cell_type": "code",
   "execution_count": 55,
   "metadata": {},
   "outputs": [],
   "source": [
    "distance5 = model.wmdistance(sentance_e , sentance_f)/((len(sentance_e)+ len(sentance_f))/2)"
   ]
  },
  {
   "cell_type": "code",
   "execution_count": 74,
   "metadata": {},
   "outputs": [],
   "source": [
    "distance6 = model.wmdistance(sentance_g , sentance_h)/((len(sentance_g)+ len(sentance_h))/2)"
   ]
  },
  {
   "cell_type": "code",
   "execution_count": 56,
   "metadata": {},
   "outputs": [
    {
     "data": {
      "text/plain": [
       "(0.34235404050025814,\n",
       " 0.1833324590406883,\n",
       " 0.3599140305910823,\n",
       " 0.1792529893787164)"
      ]
     },
     "execution_count": 56,
     "metadata": {},
     "output_type": "execute_result"
    }
   ],
   "source": [
    "distance1,distance2,distance3,distance4"
   ]
  },
  {
   "cell_type": "code",
   "execution_count": 57,
   "metadata": {},
   "outputs": [
    {
     "data": {
      "text/plain": [
       "(['anurag', 'lives', 'in', 'mumbai'],\n",
       " ['anurag', 'lives', 'in', 'capital', 'of', 'maharashtra'],\n",
       " ['jay', 'lives', 'in', 'raipur'],\n",
       " ['jay', 'in', 'lives', 'in', 'capital', 'of', 'chhattishgarh'])"
      ]
     },
     "execution_count": 57,
     "metadata": {},
     "output_type": "execute_result"
    }
   ],
   "source": [
    "sentance_a,sentance_b,sentance_c,sentance_d"
   ]
  },
  {
   "cell_type": "code",
   "execution_count": 75,
   "metadata": {},
   "outputs": [
    {
     "data": {
      "text/plain": [
       "0.1695643200722859"
      ]
     },
     "execution_count": 75,
     "metadata": {},
     "output_type": "execute_result"
    }
   ],
   "source": [
    "distance5"
   ]
  },
  {
   "cell_type": "code",
   "execution_count": 76,
   "metadata": {},
   "outputs": [
    {
     "data": {
      "text/plain": [
       "0.0"
      ]
     },
     "execution_count": 76,
     "metadata": {},
     "output_type": "execute_result"
    }
   ],
   "source": [
    "distance6"
   ]
  },
  {
   "cell_type": "markdown",
   "metadata": {},
   "source": [
    "## Problems to solve\n",
    "<br>\n",
    "<hr>\n",
    "<hr>\n",
    "\n",
    "1) How to leverage/use the distance we are getting <br>\n",
    "2) As we can see in sentance g and h that in both \" I like apple\" and \"I don't like apple\" are becoming same sentance after removing stop words . \n",
    "\n",
    "\n",
    "##### So I think we shouldn't remove stop words "
   ]
  },
  {
   "cell_type": "code",
   "execution_count": null,
   "metadata": {},
   "outputs": [],
   "source": []
  }
 ],
 "metadata": {
  "kernelspec": {
   "display_name": "Python 3",
   "language": "python",
   "name": "python3"
  },
  "language_info": {
   "codemirror_mode": {
    "name": "ipython",
    "version": 3
   },
   "file_extension": ".py",
   "mimetype": "text/x-python",
   "name": "python",
   "nbconvert_exporter": "python",
   "pygments_lexer": "ipython3",
   "version": "3.8.3"
  }
 },
 "nbformat": 4,
 "nbformat_minor": 4
}
